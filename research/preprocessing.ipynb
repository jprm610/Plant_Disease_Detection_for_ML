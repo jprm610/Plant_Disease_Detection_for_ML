{
 "cells": [
  {
   "cell_type": "code",
   "execution_count": 1,
   "metadata": {},
   "outputs": [],
   "source": [
    "import os\n",
    "os.chdir(\"../\")"
   ]
  },
  {
   "cell_type": "code",
   "execution_count": 2,
   "metadata": {},
   "outputs": [],
   "source": [
    "from src.helpers.images import Images\n",
    "from src.helpers.transformaciones import Transformaciones\n",
    "import pandas as pd\n",
    "import cv2\n",
    "\n",
    "df = pd.read_csv('artifacts/workData/df.csv')"
   ]
  },
  {
   "cell_type": "code",
   "execution_count": 3,
   "metadata": {},
   "outputs": [
    {
     "data": {
      "text/html": [
       "<div>\n",
       "<style scoped>\n",
       "    .dataframe tbody tr th:only-of-type {\n",
       "        vertical-align: middle;\n",
       "    }\n",
       "\n",
       "    .dataframe tbody tr th {\n",
       "        vertical-align: top;\n",
       "    }\n",
       "\n",
       "    .dataframe thead th {\n",
       "        text-align: right;\n",
       "    }\n",
       "</style>\n",
       "<table border=\"1\" class=\"dataframe\">\n",
       "  <thead>\n",
       "    <tr style=\"text-align: right;\">\n",
       "      <th></th>\n",
       "      <th>Unnamed: 0</th>\n",
       "      <th>image_id</th>\n",
       "      <th>healthy</th>\n",
       "      <th>multiple_diseases</th>\n",
       "      <th>rust</th>\n",
       "      <th>scab</th>\n",
       "    </tr>\n",
       "  </thead>\n",
       "  <tbody>\n",
       "    <tr>\n",
       "      <th>0</th>\n",
       "      <td>0</td>\n",
       "      <td>img_0</td>\n",
       "      <td>0</td>\n",
       "      <td>0</td>\n",
       "      <td>0</td>\n",
       "      <td>1</td>\n",
       "    </tr>\n",
       "    <tr>\n",
       "      <th>1</th>\n",
       "      <td>1</td>\n",
       "      <td>img_1</td>\n",
       "      <td>0</td>\n",
       "      <td>1</td>\n",
       "      <td>0</td>\n",
       "      <td>0</td>\n",
       "    </tr>\n",
       "    <tr>\n",
       "      <th>2</th>\n",
       "      <td>2</td>\n",
       "      <td>img_2</td>\n",
       "      <td>1</td>\n",
       "      <td>0</td>\n",
       "      <td>0</td>\n",
       "      <td>0</td>\n",
       "    </tr>\n",
       "    <tr>\n",
       "      <th>3</th>\n",
       "      <td>3</td>\n",
       "      <td>img_3</td>\n",
       "      <td>0</td>\n",
       "      <td>0</td>\n",
       "      <td>1</td>\n",
       "      <td>0</td>\n",
       "    </tr>\n",
       "    <tr>\n",
       "      <th>4</th>\n",
       "      <td>4</td>\n",
       "      <td>img_4</td>\n",
       "      <td>1</td>\n",
       "      <td>0</td>\n",
       "      <td>0</td>\n",
       "      <td>0</td>\n",
       "    </tr>\n",
       "  </tbody>\n",
       "</table>\n",
       "</div>"
      ],
      "text/plain": [
       "   Unnamed: 0 image_id  healthy  multiple_diseases  rust  scab\n",
       "0           0    img_0        0                  0     0     1\n",
       "1           1    img_1        0                  1     0     0\n",
       "2           2    img_2        1                  0     0     0\n",
       "3           3    img_3        0                  0     1     0\n",
       "4           4    img_4        1                  0     0     0"
      ]
     },
     "execution_count": 3,
     "metadata": {},
     "output_type": "execute_result"
    }
   ],
   "source": [
    "df.head()"
   ]
  },
  {
   "cell_type": "markdown",
   "metadata": {},
   "source": [
    "Check images size"
   ]
  },
  {
   "cell_type": "code",
   "execution_count": 19,
   "metadata": {},
   "outputs": [
    {
     "data": {
      "text/plain": [
       "'Train_2'"
      ]
     },
     "execution_count": 19,
     "metadata": {},
     "output_type": "execute_result"
    }
   ],
   "source": [
    "df.loc[2, 'image_id']"
   ]
  },
  {
   "cell_type": "code",
   "execution_count": 20,
   "metadata": {},
   "outputs": [
    {
     "data": {
      "text/plain": [
       "0          Train_0\n",
       "1          Train_1\n",
       "2                1\n",
       "3          Train_3\n",
       "4          Train_4\n",
       "           ...    \n",
       "1816    Train_1816\n",
       "1817    Train_1817\n",
       "1818    Train_1818\n",
       "1819    Train_1819\n",
       "1820    Train_1820\n",
       "Name: image_id, Length: 1821, dtype: object"
      ]
     },
     "execution_count": 20,
     "metadata": {},
     "output_type": "execute_result"
    }
   ],
   "source": [
    "df.loc[2, 'image_id'] = '1'\n",
    "df['image_id']"
   ]
  },
  {
   "cell_type": "code",
   "execution_count": 10,
   "metadata": {},
   "outputs": [],
   "source": [
    "shapes = set()\n",
    "for id in df['image_id'] :\n",
    "    img = cv2.imread(f'artifacts/workData/images/{id}.jpg')\n",
    "    shapes.add(img.shape)"
   ]
  },
  {
   "cell_type": "code",
   "execution_count": 11,
   "metadata": {},
   "outputs": [
    {
     "data": {
      "text/plain": [
       "{(1365, 2048, 3), (2048, 1365, 3)}"
      ]
     },
     "execution_count": 11,
     "metadata": {},
     "output_type": "execute_result"
    }
   ],
   "source": [
    "shapes"
   ]
  },
  {
   "cell_type": "code",
   "execution_count": 22,
   "metadata": {},
   "outputs": [
    {
     "ename": "TypeError",
     "evalue": "'numpy.ndarray' object does not support the context manager protocol",
     "output_type": "error",
     "traceback": [
      "\u001b[1;31m---------------------------------------------------------------------------\u001b[0m",
      "\u001b[1;31mTypeError\u001b[0m                                 Traceback (most recent call last)",
      "Cell \u001b[1;32mIn[22], line 1\u001b[0m\n\u001b[1;32m----> 1\u001b[0m \u001b[38;5;28;43;01mwith\u001b[39;49;00m\u001b[43m \u001b[49m\u001b[43mcv2\u001b[49m\u001b[38;5;241;43m.\u001b[39;49m\u001b[43mimread\u001b[49m\u001b[43m(\u001b[49m\u001b[38;5;124;43m'\u001b[39;49m\u001b[38;5;124;43martifacts/workData/images/img_2.jpg\u001b[39;49m\u001b[38;5;124;43m'\u001b[39;49m\u001b[43m)\u001b[49m\u001b[43m \u001b[49m\u001b[38;5;28;43;01mas\u001b[39;49;00m\u001b[43m \u001b[49m\u001b[43mimg\u001b[49m\u001b[43m \u001b[49m\u001b[43m:\u001b[49m\n\u001b[0;32m      2\u001b[0m \u001b[43m    \u001b[49m\u001b[38;5;28;43mprint\u001b[39;49m\u001b[43m(\u001b[49m\u001b[43mimg\u001b[49m\u001b[38;5;241;43m.\u001b[39;49m\u001b[43mshape\u001b[49m\u001b[43m)\u001b[49m\n",
      "\u001b[1;31mTypeError\u001b[0m: 'numpy.ndarray' object does not support the context manager protocol"
     ]
    }
   ],
   "source": [
    "with cv2.imread('artifacts/workData/images/img_2.jpg') as img :\n",
    "    print(img.shape)"
   ]
  },
  {
   "cell_type": "code",
   "execution_count": 23,
   "metadata": {},
   "outputs": [],
   "source": [
    "shapes = set()\n",
    "for id in df['image_id'] :\n",
    "    img = cv2.imread(f'artifacts/images/{id}.jpg')\n",
    "    shapes.add(img.shape)"
   ]
  },
  {
   "cell_type": "code",
   "execution_count": 24,
   "metadata": {},
   "outputs": [
    {
     "data": {
      "text/plain": [
       "{(964, 1741, 3),\n",
       " (966, 2196, 3),\n",
       " (1010, 2453, 3),\n",
       " (1028, 1763, 3),\n",
       " (1043, 2413, 3),\n",
       " (1066, 2205, 3),\n",
       " (1071, 1627, 3),\n",
       " (1097, 2305, 3),\n",
       " (1109, 1972, 3),\n",
       " (1118, 2061, 3),\n",
       " (1147, 1751, 3),\n",
       " (1171, 1939, 3),\n",
       " (1173, 2123, 3),\n",
       " (1183, 2530, 3),\n",
       " (1189, 1880, 3),\n",
       " (1195, 2591, 3),\n",
       " (1206, 1531, 3),\n",
       " (1209, 2372, 3),\n",
       " (1227, 1938, 3),\n",
       " (1229, 1650, 3),\n",
       " (1242, 1817, 3),\n",
       " (1250, 2358, 3),\n",
       " (1252, 2525, 3),\n",
       " (1265, 1944, 3),\n",
       " (1280, 1735, 3),\n",
       " (1281, 1788, 3),\n",
       " (1282, 1879, 3),\n",
       " (1289, 2493, 3),\n",
       " (1304, 2420, 3),\n",
       " (1313, 2181, 3),\n",
       " (1328, 2187, 3),\n",
       " (1345, 2159, 3),\n",
       " (1360, 2151, 3),\n",
       " (1365, 2048, 3),\n",
       " (1368, 2651, 3),\n",
       " (1369, 1759, 3),\n",
       " (1373, 1645, 3),\n",
       " (1404, 1633, 3),\n",
       " (1410, 1915, 3),\n",
       " (1437, 2096, 3),\n",
       " (1457, 1984, 3),\n",
       " (1463, 2339, 3),\n",
       " (1471, 2118, 3),\n",
       " (1500, 1687, 3),\n",
       " (1501, 2358, 3),\n",
       " (1505, 2140, 3),\n",
       " (1515, 2407, 3),\n",
       " (1539, 2160, 3),\n",
       " (1542, 1562, 3),\n",
       " (1546, 2184, 3),\n",
       " (1555, 2543, 3),\n",
       " (1566, 2471, 3),\n",
       " (1570, 1961, 3),\n",
       " (1573, 2180, 3),\n",
       " (1576, 1860, 3),\n",
       " (1581, 1614, 3),\n",
       " (1587, 2644, 3),\n",
       " (1591, 2348, 3),\n",
       " (1605, 2200, 3),\n",
       " (1616, 1897, 3),\n",
       " (1620, 2658, 3),\n",
       " (1637, 2220, 3),\n",
       " (1642, 1789, 3),\n",
       " (1651, 1606, 3),\n",
       " (1662, 2542, 3),\n",
       " (1669, 2238, 3),\n",
       " (1681, 2244, 3),\n",
       " (1694, 2113, 3),\n",
       " (1694, 2186, 3),\n",
       " (1701, 2254, 3),\n",
       " (1716, 1953, 3),\n",
       " (1724, 1993, 3),\n",
       " (1730, 2245, 3),\n",
       " (1731, 2272, 3),\n",
       " (1738, 2556, 3),\n",
       " (1761, 2288, 3),\n",
       " (1791, 2304, 3),\n",
       " (1821, 2318, 3),\n",
       " (1849, 2332, 3),\n",
       " (1877, 2346, 3),\n",
       " (1905, 2358, 3),\n",
       " (1933, 2370, 3),\n",
       " (1959, 2382, 3),\n",
       " (2009, 2402, 3),\n",
       " (2033, 2412, 3),\n",
       " (2048, 1365, 3),\n",
       " (2057, 2420, 3),\n",
       " (2081, 2428, 3),\n",
       " (2125, 2440, 3),\n",
       " (2147, 2446, 3),\n",
       " (2157, 1157, 3),\n",
       " (2167, 2450, 3),\n",
       " (2187, 2454, 3),\n",
       " (2207, 2458, 3),\n",
       " (2461, 1161, 3)}"
      ]
     },
     "execution_count": 24,
     "metadata": {},
     "output_type": "execute_result"
    }
   ],
   "source": [
    "shapes"
   ]
  }
 ],
 "metadata": {
  "kernelspec": {
   "display_name": "Python 3",
   "language": "python",
   "name": "python3"
  },
  "language_info": {
   "codemirror_mode": {
    "name": "ipython",
    "version": 3
   },
   "file_extension": ".py",
   "mimetype": "text/x-python",
   "name": "python",
   "nbconvert_exporter": "python",
   "pygments_lexer": "ipython3",
   "version": "3.11.7"
  }
 },
 "nbformat": 4,
 "nbformat_minor": 2
}
